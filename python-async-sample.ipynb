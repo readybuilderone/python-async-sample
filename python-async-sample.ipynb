{
 "cells": [
  {
   "cell_type": "markdown",
   "metadata": {},
   "source": [
    "# Python Async Sample"
   ]
  },
  {
   "cell_type": "markdown",
   "metadata": {},
   "source": [
    "- kernel: 3.11.4\n",
    "- ref: https://www.youtube.com/watch?v=K56nNuBEd0c"
   ]
  },
  {
   "cell_type": "markdown",
   "metadata": {},
   "source": [
    "## Sync Sample"
   ]
  },
  {
   "cell_type": "code",
   "execution_count": 2,
   "metadata": {},
   "outputs": [
    {
     "name": "stdout",
     "output_type": "stream",
     "text": [
      "Start brewCoffee()\n",
      "End brewCoffee()\n",
      "Start toastBread()\n",
      "End toastBread()\n",
      "Coffee: coffee ready\n",
      "Bread: bread ready\n",
      "Total time: 8.000563859939575\n"
     ]
    }
   ],
   "source": [
    "import time\n",
    "\n",
    "def brewCoffee():\n",
    "    print(\"Start brewCoffee()\")\n",
    "    time.sleep(5)\n",
    "    print(\"End brewCoffee()\")\n",
    "    return \"coffee ready\"\n",
    "\n",
    "def toastBread():\n",
    "    print(\"Start toastBread()\")\n",
    "    time.sleep(3)\n",
    "    print(\"End toastBread()\")\n",
    "    return \"bread ready\"\n",
    "\n",
    "def main():\n",
    "    start_time = time.time()\n",
    "    \n",
    "    coffee_result = brewCoffee()\n",
    "    bread_result = toastBread()\n",
    "    \n",
    "    end_time = time.time()\n",
    "    elapsed_time = end_time - start_time\n",
    "    \n",
    "    print(\"Coffee: \" + coffee_result)\n",
    "    print(\"Bread: \" + bread_result)\n",
    "    print(\"Total time: \" + str(elapsed_time))\n",
    "    \n",
    "main()"
   ]
  },
  {
   "cell_type": "markdown",
   "metadata": {},
   "source": [
    "## Async Sample"
   ]
  },
  {
   "cell_type": "code",
   "execution_count": 12,
   "metadata": {},
   "outputs": [
    {
     "name": "stdout",
     "output_type": "stream",
     "text": [
      "Start brewCoffee()\n",
      "Start toastBread()\n",
      "End toastBread()\n",
      "End brewCoffee()\n",
      "Coffee: coffee ready\n",
      "Bread: bread ready\n",
      "Total time: 5.002566814422607\n"
     ]
    }
   ],
   "source": [
    "import asyncio\n",
    "import time\n",
    "\n",
    "async def brewCoffee():\n",
    "    print(\"Start brewCoffee()\")\n",
    "    await asyncio.sleep(5)\n",
    "    print(\"End brewCoffee()\")\n",
    "    return \"coffee ready\"\n",
    "\n",
    "async def toastBread():\n",
    "    print(\"Start toastBread()\")\n",
    "    await asyncio.sleep(3)\n",
    "    print(\"End toastBread()\")\n",
    "    return \"bread ready\"\n",
    "\n",
    "async def main():\n",
    "    start_time = time.time()\n",
    "    \n",
    "    batch = asyncio.gather(brewCoffee(), toastBread())\n",
    "    coffee_result, bread_result = await batch\n",
    "    \n",
    "    end_time = time.time()\n",
    "    elapsed_time = end_time - start_time\n",
    "    print(\"Coffee: \" + coffee_result)\n",
    "    print(\"Bread: \" + bread_result)\n",
    "    print(\"Total time: \" + str(elapsed_time))\n",
    " \n",
    "if __name__ == \"__main__\":   \n",
    "    await main()"
   ]
  },
  {
   "cell_type": "markdown",
   "metadata": {},
   "source": [
    "## Sync Sample 2"
   ]
  },
  {
   "cell_type": "code",
   "execution_count": 13,
   "metadata": {},
   "outputs": [
    {
     "name": "stdout",
     "output_type": "stream",
     "text": [
      "Start brewCoffee()\n",
      "Start toastBread()\n",
      "End toastBread()\n",
      "End brewCoffee()\n",
      "Coffee: coffee ready\n",
      "Bread: bread ready\n",
      "Total time: 5.001389741897583\n"
     ]
    }
   ],
   "source": [
    "import asyncio\n",
    "import time\n",
    "\n",
    "async def brewCoffee():\n",
    "    print(\"Start brewCoffee()\")\n",
    "    await asyncio.sleep(5)\n",
    "    print(\"End brewCoffee()\")\n",
    "    return \"coffee ready\"\n",
    "\n",
    "async def toastBread():\n",
    "    print(\"Start toastBread()\")\n",
    "    await asyncio.sleep(3)\n",
    "    print(\"End toastBread()\")\n",
    "    return \"bread ready\"\n",
    "\n",
    "async def main():\n",
    "    start_time = time.time()\n",
    "    \n",
    "    # batch = asyncio.gather(brewCoffee(), toastBread())\n",
    "    # coffee_result, bread_result = await batch\n",
    "    \n",
    "    coffee_task = asyncio.create_task(brewCoffee())\n",
    "    bread_task = asyncio.create_task(toastBread())\n",
    "    coffee_result = await coffee_task\n",
    "    bread_result = await bread_task\n",
    "    \n",
    "    end_time = time.time()\n",
    "    elapsed_time = end_time - start_time\n",
    "    print(\"Coffee: \" + coffee_result)\n",
    "    print(\"Bread: \" + bread_result)\n",
    "    print(\"Total time: \" + str(elapsed_time))\n",
    " \n",
    "if __name__ == \"__main__\":   \n",
    "    await main()"
   ]
  },
  {
   "cell_type": "code",
   "execution_count": null,
   "metadata": {},
   "outputs": [],
   "source": []
  }
 ],
 "metadata": {
  "kernelspec": {
   "display_name": ".venv311",
   "language": "python",
   "name": "python3"
  },
  "language_info": {
   "codemirror_mode": {
    "name": "ipython",
    "version": 3
   },
   "file_extension": ".py",
   "mimetype": "text/x-python",
   "name": "python",
   "nbconvert_exporter": "python",
   "pygments_lexer": "ipython3",
   "version": "3.11.4"
  }
 },
 "nbformat": 4,
 "nbformat_minor": 2
}
